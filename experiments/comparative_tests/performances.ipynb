{
 "cells": [
  {
   "cell_type": "code",
   "execution_count": null,
   "id": "5a2d790a",
   "metadata": {},
   "outputs": [],
   "source": [
    "import os\n",
    "\n",
    "path = \"../..\"\n",
    "os.chdir(path)\n",
    "\n",
    "print(\"File location using os.getcwd():\", os.getcwd())"
   ]
  },
  {
   "cell_type": "markdown",
   "id": "e3d5246d",
   "metadata": {},
   "source": [
    "## Imports"
   ]
  },
  {
   "cell_type": "code",
   "execution_count": null,
   "id": "198d30e1",
   "metadata": {},
   "outputs": [],
   "source": [
    "from cognitivefactory.interactive_clustering.clustering.kmeans import KMeansConstrainedClustering\n",
    "from src.cognitivefactory.interactive_clustering.clustering.dbscan import DBScanConstrainedClustering\n",
    "from src.cognitivefactory.interactive_clustering.clustering.mpckmeans import MPCKMeansConstrainedClustering\n",
    "from src.cognitivefactory.interactive_clustering.clustering.affinity_propagation import AffinityPropagationConstrainedClustering\n",
    "from tests.comparative_tests.utils import load_dataset,estimate_mean_min_distance_between_same_cluster_points ,get_constraints_couples, run_performances_measure, run_all_performances_measures, save_results, load_results, plot_results, plot_all_results"
   ]
  },
  {
   "cell_type": "markdown",
   "id": "043a8bf4",
   "metadata": {},
   "source": [
    "# Run measures"
   ]
  },
  {
   "cell_type": "code",
   "execution_count": null,
   "id": "af0abb73",
   "metadata": {},
   "outputs": [],
   "source": [
    "path = \"./tests/comparative_tests\"\n",
    "os.chdir(path)\n",
    "\n",
    "print(\"File location using os.getcwd():\", os.getcwd())"
   ]
  },
  {
   "attachments": {},
   "cell_type": "markdown",
   "id": "f8dffade",
   "metadata": {},
   "source": [
    "## Individual tests with each algorithm"
   ]
  },
  {
   "cell_type": "markdown",
   "id": "64ac8ffc",
   "metadata": {},
   "source": [
    "##### For C-DBScan"
   ]
  },
  {
   "cell_type": "code",
   "execution_count": null,
   "id": "be41b7a5",
   "metadata": {},
   "outputs": [],
   "source": [
    "size = 500\n",
    "\n",
    "# Load dataset and extract data\n",
    "dict_of_vectors, dict_of_real_clusters = load_dataset(\n",
    "    dataset_path=\"./French_trainset_for_chatbots_dealing_with_usual_requests_on_bank_cards.csv\",\n",
    "    desired_size=size\n",
    "    )\n",
    "\n",
    "# Compute all the possible constraints\n",
    "dict_of_constraints_couples = get_constraints_couples(dict_of_real_clusters)\n",
    "\n",
    "# To estimate a suitable `eps` hyperparameter for C-DBScan model\n",
    "suitable_eps = estimate_mean_min_distance_between_same_cluster_points(dict_of_vectors, dict_of_real_clusters)\n",
    "\n",
    "# Create an instance of C-DBScan model\n",
    "clustering_model = DBScanConstrainedClustering(eps=suitable_eps, min_samples=8)\n",
    "\n",
    "# Run measure\n",
    "dict_of_clustering_performances = run_performances_measure(clustering_model,\n",
    "                                                           dict_of_vectors,\n",
    "                                                           dict_of_real_clusters,\n",
    "                                                           dict_of_constraints_couples,\n",
    "                                                           specific_nb_of_clusters=True\n",
    "                                                           )\n",
    "\n",
    "# To save the results in a .json file\n",
    "save_results(dict_of_clustering_performances, dst_path=\"./measures_results/c_dbscan_individual_size_\" + str(size) + \".json\") ### dst_path can be changed"
   ]
  },
  {
   "cell_type": "markdown",
   "id": "64ac8ffc",
   "metadata": {},
   "source": [
    "##### For MPCKMeans"
   ]
  },
  {
   "cell_type": "code",
   "execution_count": null,
   "id": "296f5213",
   "metadata": {},
   "outputs": [],
   "source": [
    "size = 60\n",
    "\n",
    "# Load dataset and extract data\n",
    "dict_of_vectors, dict_of_real_clusters = load_dataset(\n",
    "    dataset_path=\"./French_trainset_for_chatbots_dealing_with_usual_requests_on_bank_cards.csv\",\n",
    "    desired_size=size\n",
    "    )\n",
    "\n",
    "# Compute all the possible constraints\n",
    "dict_of_constraints_couples = get_constraints_couples(dict_of_real_clusters)\n",
    "\n",
    "# Create an instance of MPCKMeans model\n",
    "clustering_model = MPCKMeansConstrainedClustering()\n",
    "\n",
    "# Run measure\n",
    "dict_of_clustering_performances = run_performances_measure(clustering_model,\n",
    "                                                           dict_of_vectors,\n",
    "                                                           dict_of_real_clusters,\n",
    "                                                           dict_of_constraints_couples,\n",
    "                                                           )\n",
    "\n",
    "# To save the results in a .json file\n",
    "save_results(dict_of_clustering_performances, dst_path=\"./measures_results/mpckmeans_individual_size_\" + str(size) + \".json\") ### dst_path can be changed"
   ]
  },
  {
   "cell_type": "markdown",
   "id": "64ac8ffc",
   "metadata": {},
   "source": [
    "##### For Affinity propagation"
   ]
  },
  {
   "cell_type": "code",
   "execution_count": null,
   "id": "eca13421",
   "metadata": {},
   "outputs": [],
   "source": [
    "size = 500\n",
    "\n",
    "# Load dataset and extract data\n",
    "dict_of_vectors, dict_of_real_clusters = load_dataset(\n",
    "    dataset_path=\"./French_trainset_for_chatbots_dealing_with_usual_requests_on_bank_cards.csv\",\n",
    "    desired_size=size\n",
    "    )\n",
    "\n",
    "# Compute all the possible constraints\n",
    "dict_of_constraints_couples = get_constraints_couples(dict_of_real_clusters)\n",
    "\n",
    "# Create an instance of Affinity propagation model\n",
    "clustering_model = AffinityPropagationConstrainedClustering()\n",
    "\n",
    "# Run measure\n",
    "dict_of_clustering_performances = run_performances_measure(clustering_model,\n",
    "                                                           dict_of_vectors,\n",
    "                                                           dict_of_real_clusters,\n",
    "                                                           dict_of_constraints_couples,\n",
    "                                                           )\n",
    "\n",
    "# To save the results in a .json file\n",
    "save_results(dict_of_clustering_performances, dst_path=\"./measures_results/affinity_propagation_individual_size_\" + str(size) + \".json\") ### dst_path can be changed"
   ]
  },
  {
   "attachments": {},
   "cell_type": "markdown",
   "id": "64ac8ffc",
   "metadata": {},
   "source": [
    "##### For constrained K-means"
   ]
  },
  {
   "cell_type": "code",
   "execution_count": null,
   "id": "efe30929",
   "metadata": {},
   "outputs": [],
   "source": [
    "size = 500\n",
    "\n",
    "# Load dataset and extract data\n",
    "dict_of_vectors, dict_of_real_clusters = load_dataset(\n",
    "    dataset_path=\"./French_trainset_for_chatbots_dealing_with_usual_requests_on_bank_cards.csv\",\n",
    "    desired_size=size\n",
    "    )\n",
    "    \n",
    "# Compute all the possible constraints\n",
    "dict_of_constraints_couples = get_constraints_couples(dict_of_real_clusters)\n",
    "\n",
    "# Create an instance of KMeans model\n",
    "clustering_model = KMeansConstrainedClustering()\n",
    "\n",
    "# Run measure\n",
    "dict_of_clustering_performances = run_performances_measure(clustering_model,\n",
    "                                                           dict_of_vectors,\n",
    "                                                           dict_of_real_clusters,\n",
    "                                                           dict_of_constraints_couples,\n",
    "                                                           )\n",
    "\n",
    "# To save the results in a .json file\n",
    "save_results(dict_of_clustering_performances, dst_path=\"./measures_results/kmeans_individual_size_\" + str(size) + \".json\") ### dst_path can be changed"
   ]
  },
  {
   "cell_type": "markdown",
   "id": "19dc4ee6",
   "metadata": {},
   "source": [
    "## Tests with several algorithms at the same time"
   ]
  },
  {
   "cell_type": "markdown",
   "id": "4c77809d",
   "metadata": {},
   "source": [
    "### For all the algorithms at the same time over a 60-entries reduced dataset"
   ]
  },
  {
   "cell_type": "code",
   "execution_count": null,
   "id": "df36d2cc",
   "metadata": {},
   "outputs": [],
   "source": [
    "size = 60\n",
    "\n",
    "dict_of_vectors, dict_of_real_clusters = load_dataset(\n",
    "    dataset_path=\"./French_trainset_for_chatbots_dealing_with_usual_requests_on_bank_cards.csv\",\n",
    "    desired_size=size\n",
    "    )\n",
    "\n",
    "dict_of_constraints_couples = get_constraints_couples(dict_of_real_clusters)\n",
    "\n",
    "# Run measure\n",
    "dict_of_clustering_performances = run_all_performances_measures(\n",
    "    dict_of_vectors,\n",
    "    dict_of_real_clusters,\n",
    "    dict_of_constraints_couples,\n",
    "    )\n",
    "\n",
    "# To save the results in a .json file\n",
    "save_results(dict_of_clustering_performances, dst_path=\"./measures_results/kmeans_c_dbscan_mpckmeans_affinity_size_\" + str(size) + \".json\") ### dst_path can be changed"
   ]
  },
  {
   "attachments": {},
   "cell_type": "markdown",
   "id": "2907ae25",
   "metadata": {},
   "source": [
    "#### For Kmeans and C-DBScan and Affinity propagation at the same time over full dataset"
   ]
  },
  {
   "cell_type": "code",
   "execution_count": null,
   "id": "8893f5ad",
   "metadata": {},
   "outputs": [],
   "source": [
    "size = 500\n",
    "\n",
    "dict_of_vectors, dict_of_real_clusters = load_dataset(\n",
    "    dataset_path=\"./French_trainset_for_chatbots_dealing_with_usual_requests_on_bank_cards.csv\",\n",
    "    desired_size=size\n",
    "    )\n",
    "\n",
    "dict_of_constraints_couples = get_constraints_couples(dict_of_real_clusters)\n",
    "\n",
    "# Run measure\n",
    "dict_of_clustering_performances = run_all_performances_measures(\n",
    "    dict_of_vectors,\n",
    "    dict_of_real_clusters,\n",
    "    dict_of_constraints_couples,\n",
    "    mpckmeans= False,\n",
    "    )\n",
    "\n",
    "# To save the results in a .json file\n",
    "save_results(dict_of_clustering_performances, dst_path=\"./measures_results/kmeans_c_dbscan_affinity_size_\" + str(size) + \".json\") ### dst_path can be changed"
   ]
  },
  {
   "cell_type": "markdown",
   "id": "f70352f7",
   "metadata": {},
   "source": [
    "# Plot graphs of the results"
   ]
  },
  {
   "cell_type": "markdown",
   "id": "7ab1eae4",
   "metadata": {},
   "source": [
    "## For all the algorithms at the same time over a 60-entries reduced dataset"
   ]
  },
  {
   "cell_type": "code",
   "execution_count": null,
   "id": "9b8945de",
   "metadata": {},
   "outputs": [],
   "source": [
    "dict_of_clustering_performances = load_results(\"./measures_results/kmeans_c_dbscan_mpckmeans_affinity_size_60.json\")\n",
    "\n",
    "plot_all_results(dict_of_clustering_performances, title=\"Results with a 60-entries reduced dataset\", plot_nb_clusters=True)\n",
    "\n",
    "plot_results(dict_of_clustering_performances[\"kmeans\"], algo_name=\"COP K-means\", constraints_increment=7)\n",
    "plot_results(dict_of_clustering_performances[\"c_dbscan\"], algo_name=\"C-DBScan\", constraints_increment=7)\n",
    "plot_results(dict_of_clustering_performances[\"mpckmeans\"], algo_name=\"MPCK-means\", constraints_increment=7)\n",
    "plot_results(dict_of_clustering_performances[\"affinity_propagation\"], algo_name=\"Affinity Propagation\", constraints_increment=7)"
   ]
  },
  {
   "attachments": {},
   "cell_type": "markdown",
   "id": "f7d0cf06",
   "metadata": {},
   "source": [
    "## For K-means, C-DBScan and Affinity Propagation at the same time over full dataset"
   ]
  },
  {
   "cell_type": "code",
   "execution_count": null,
   "id": "a3c102d7",
   "metadata": {},
   "outputs": [],
   "source": [
    "dict_of_clustering_performances = load_results(\"./measures_results/kmeans_c_dbscan_affinity_size_500.json\")\n",
    "\n",
    "plot_all_results(\n",
    "    dict_of_clustering_performances,\n",
    "    title=\"Results with full dataset\",\n",
    "    constraints_increment=499,\n",
    "    plot_nb_clusters=True,\n",
    "    mpckmeans=False,\n",
    ")\n",
    "\n",
    "plot_results(dict_of_clustering_performances[\"kmeans\"], algo_name=\"COP K-means\")\n",
    "plot_results(dict_of_clustering_performances[\"c_dbscan\"], algo_name=\"C-DBScan\")\n",
    "plot_results(dict_of_clustering_performances[\"affinity_propagation\"], algo_name=\"Affinity Propagation\")"
   ]
  },
  {
   "cell_type": "markdown",
   "id": "dde1e438",
   "metadata": {},
   "source": [
    "## For individual tests"
   ]
  },
  {
   "cell_type": "code",
   "execution_count": null,
   "id": "a9d8446a",
   "metadata": {},
   "outputs": [],
   "source": [
    "# For constrained K-means\n",
    "\n",
    "kmeans_dict_of_clustering_performances = load_results(src_path=\"./measures_results/kmeans_individual_size_500.json\")\n",
    "\n",
    "plot_results(kmeans_dict_of_clustering_performances, algo_name=\"kmeans\")"
   ]
  },
  {
   "cell_type": "code",
   "execution_count": null,
   "id": "141e4124",
   "metadata": {},
   "outputs": [],
   "source": [
    "# For C-DBScan\n",
    "\n",
    "c_dbscan_dict_of_clustering_performances = load_results(src_path=\"./measures_results/c_dbscan_individual_size_500.json\")\n",
    "\n",
    "plot_results(c_dbscan_dict_of_clustering_performances, algo_name=\"C-DBScan\", plot_nb_clusters=True, print_time=True)"
   ]
  },
  {
   "cell_type": "code",
   "execution_count": null,
   "id": "47fee530",
   "metadata": {},
   "outputs": [],
   "source": [
    "# For MPCK-means\n",
    "\n",
    "mpckmeans_dict_of_clustering_performances = load_results(src_path=\"./measures_results/mpckmeans_individual_size_60.json\")\n",
    "\n",
    "plot_results(mpckmeans_dict_of_clustering_performances, algo_name=\"MPCKmeans\")"
   ]
  },
  {
   "cell_type": "code",
   "execution_count": null,
   "id": "c53e0d56",
   "metadata": {},
   "outputs": [],
   "source": [
    "# For Affinity Propagation\n",
    "\n",
    "affinity_propagation_dict_of_clustering_performances = load_results(src_path=\"./measures_results/affinity_propagation_individual_size_500.json\")\n",
    "\n",
    "plot_results(affinity_propagation_dict_of_clustering_performances, algo_name=\"Affinity Propagation\")"
   ]
  }
 ],
 "metadata": {
  "kernelspec": {
   "display_name": "Python 3 (ipykernel)",
   "language": "python",
   "name": "python3"
  },
  "language_info": {
   "codemirror_mode": {
    "name": "ipython",
    "version": 3
   },
   "file_extension": ".py",
   "mimetype": "text/x-python",
   "name": "python",
   "nbconvert_exporter": "python",
   "pygments_lexer": "ipython3",
   "version": "3.10.4"
  },
  "vscode": {
   "interpreter": {
    "hash": "51e1aafbacc2937a3d249d8ce104760037edb5f7fe52ae25fc17ce191162ff14"
   }
  }
 },
 "nbformat": 4,
 "nbformat_minor": 5
}
